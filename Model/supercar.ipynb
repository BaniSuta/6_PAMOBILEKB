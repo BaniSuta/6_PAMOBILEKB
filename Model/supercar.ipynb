{
  "nbformat": 4,
  "nbformat_minor": 0,
  "metadata": {
    "colab": {
      "provenance": [],
      "gpuType": "T4"
    },
    "kernelspec": {
      "name": "python3",
      "display_name": "Python 3"
    },
    "language_info": {
      "name": "python"
    },
    "accelerator": "GPU"
  },
  "cells": [
    {
      "cell_type": "code",
      "execution_count": null,
      "metadata": {
        "id": "iulB5uCMAnOR"
      },
      "outputs": [],
      "source": [
        "import numpy as np # linear algebra\n",
        "import pandas as pd # data processing, CSV file I/O (e.g. pd.read_csv)\n",
        "import os\n",
        "for dirname, _, filenames in os.walk('/kaggle/input'):\n",
        "    for filename in filenames:\n",
        "        print(os.path.join(dirname, filename))"
      ]
    },
    {
      "cell_type": "code",
      "source": [
        "df = pd.read_csv(\"/content/Dataset Mobil CSV.csv\")\n",
        "print(df)"
      ],
      "metadata": {
        "colab": {
          "base_uri": "https://localhost:8080/"
        },
        "id": "omS_NDShB7fT",
        "outputId": "089a41b6-8d92-44cf-d5c9-c40a7c9e3256"
      },
      "execution_count": null,
      "outputs": [
        {
          "output_type": "stream",
          "name": "stdout",
          "text": [
            "      Nama Mobil       Harga  CC Mesin Jenis Bahan Bakar  Jumlah Kursi  \\\n",
            "0         Avanza   250000000      1500            Bensin             7   \n",
            "1          Civic   600000000      1500            Bensin             5   \n",
            "2         Ertiga   250000000      1462            Bensin             7   \n",
            "3        Xpander   300000000      1500            Bensin             7   \n",
            "4          Supra  2000000000      3000            Bensin             2   \n",
            "5        Mazda 2   300000000      1500            Bensin             5   \n",
            "6         Ranger   800000000      2000            Diesel             5   \n",
            "7           Jazz   270000000      1500            Bensin             5   \n",
            "8       Gran Max   160000000      1500            Bensin             3   \n",
            "9       Colorado   700000000      2500            Diesel             5   \n",
            "10       A-Class   900000000      1332            Bensin             5   \n",
            "11   911 Carrera  4000000000      3000            Bensin             2   \n",
            "12         Traga   180000000      2500            Diesel             2   \n",
            "13        Livina   250000000      1500            Bensin             7   \n",
            "14   Hyundai i20   250000000      1400            Bensin             5   \n",
            "15        Triton   500000000      2400            Diesel             5   \n",
            "16         Hilux   450000000      2400            Diesel             5   \n",
            "17          CX-5   500000000      2500            Bensin             5   \n",
            "18  F-150 Raptor  1500000000      3500            Bensin             5   \n",
            "19  BMW 3 Series  1000000000      2000            Bensin             5   \n",
            "20        Kijang   150000000      1800            Bensin             7   \n",
            "21          L300   180000000      2500            Diesel             2   \n",
            "22         Carry   120000000      1300           Bensin              3   \n",
            "23        Espass    80000000      1600            Bensin             7   \n",
            "24       Terrano   150000000      2400            Bensin             5   \n",
            "25  Land Cruiser   500000000      4200            Diesel             7   \n",
            "26         Jimny   100000000      1300            Bensin             4   \n",
            "27       Trooper   200000000      3200            Diesel             7   \n",
            "28      Ventrend    60000000      1400            Bensin             5   \n",
            "29      Travello   120000000      2700            Diesel            12   \n",
            "30        Camaro  2000000000      6200            Bensin             4   \n",
            "31      Zebra. E    80000000      1600            Bensin             7   \n",
            "32        Accent    50000000      1500            Bensin             5   \n",
            "33        Navara   500000000      2300            Diesel             5   \n",
            "34         HiAce   600000000      2800            Diesel            16   \n",
            "35       Panther   300000000      2500            Diesel             7   \n",
            "36            X5  1500000000      3000            Bensin             7   \n",
            "37        Duster   300000000      1500            Diesel             5   \n",
            "38          Golf   500000000      1400            Bensin             5   \n",
            "39      Fortuner   600000000      2400            Diesel             7   \n",
            "\n",
            "           Transmisi     Tipe Mobil  Horsepower  Torsi  Tipe Chassis  \\\n",
            "0   Manual/Automatic            MPV         104    136     Monocoque   \n",
            "1                CVT          Sedan         176    220     Monocoque   \n",
            "2   Manual/Automatic            MPV         103    138     Monocoque   \n",
            "3   Manual/Automatic            MPV         105    141     Monocoque   \n",
            "4          Automatic       Sportcar         335    500     Monocoque   \n",
            "5          Automatic      Hatchback         110    114     Monocoque   \n",
            "6          Automatic   Double Cabin         213    500  Ladder Frame   \n",
            "7          Automatic      Hatchback         120    145     Monocoque   \n",
            "8             Manual          Niaga          97    134  Ladder Frame   \n",
            "9   Manual/Automatic   Double Cabin         180    440  Ladder Frame   \n",
            "10         Automatic      Hatchback         163    250     Monocoque   \n",
            "11         Automatic       Sportcar         379    450     Monocoque   \n",
            "12            Manual          Niaga          80    191  Ladder Frame   \n",
            "13  Manual/Automatic            MPV         104    141     Monocoque   \n",
            "14  Manual/Automatic      Hatchback          83    114     Monocoque   \n",
            "15  Manual/Automatic   Double Cabin         181    430  Ladder Frame   \n",
            "16  Manual/Automatic   Double Cabin         148    400  Ladder Frame   \n",
            "17         Automatic            SUV         187    252     Monocoque   \n",
            "18         Automatic   Double Cabin         450    691  Ladder Frame   \n",
            "19         Automatic          Sedan         258    400     Monocoque   \n",
            "20            Manual            MPV          83    140  Ladder Frame   \n",
            "21            Manual          Niaga          85    172  Ladder Frame   \n",
            "22            Manual          Niaga          75    100  Ladder Frame   \n",
            "23            Manual            MPV          90    130     Monocoque   \n",
            "24            Manual            SUV         118    185  Ladder Frame   \n",
            "25         Automatic            SUV         160    360  Ladder Frame   \n",
            "26            Manual            SUV          70    100  Ladder Frame   \n",
            "27            Manual            SUV         110    225  Ladder Frame   \n",
            "28            Manual  Station Wagon          70    105     Monocoque   \n",
            "29            Manual        Minibus          80    170  Ladder Frame   \n",
            "30         Automatic       Sportcar         455    617     Monocoque   \n",
            "31            Manual            MPV          72    110     Monocoque   \n",
            "32  Manual/Automatic          Sedan          92    135     Monocoque   \n",
            "33  Manual/Automatic   Double Cabin         190    450  Ladder Frame   \n",
            "34            Manual        Minibus         150    420  Ladder Frame   \n",
            "35            Manual            MPV          86    192  Ladder Frame   \n",
            "36         Automatic            SUV         335    450     Monocoque   \n",
            "37  Manual/Automatic            SUV         110    240     Monocoque   \n",
            "38         Automatic      Hatchback         150    250     Monocoque   \n",
            "39  Manual/Automatic            SUV         150    400  Ladder Frame   \n",
            "\n",
            "       Merk Mobil  \n",
            "0          Toyota  \n",
            "1           Honda  \n",
            "2          Suzuki  \n",
            "3      Mitsubishi  \n",
            "4          Toyota  \n",
            "5           Mazda  \n",
            "6            Ford  \n",
            "7           Honda  \n",
            "8        Daihatsu  \n",
            "9       Chevrolet  \n",
            "10  Mercedes-Benz  \n",
            "11        Porsche  \n",
            "12          Isuzu  \n",
            "13         Nissan  \n",
            "14        Hyundai  \n",
            "15     Mitsubishi  \n",
            "16         Toyota  \n",
            "17          Mazda  \n",
            "18           Ford  \n",
            "19            BMW  \n",
            "20         Toyota  \n",
            "21     Mitsubishi  \n",
            "22         Suzuki  \n",
            "23       Daihatsu  \n",
            "24         Nissan  \n",
            "25         Toyota  \n",
            "26         Suzuki  \n",
            "27          Isuzu  \n",
            "28          Mazda  \n",
            "29            Kia  \n",
            "30      Chevrolet  \n",
            "31       Daihatsu  \n",
            "32        Hyundai  \n",
            "33         Nissan  \n",
            "34         Toyota  \n",
            "35          Isuzu  \n",
            "36            BMW  \n",
            "37        Renault  \n",
            "38     Volkswagen  \n",
            "39         Toyota  \n"
          ]
        }
      ]
    },
    {
      "cell_type": "code",
      "source": [
        "# Hapus kolom yang tidak diinginkan\n",
        "df = df.drop(columns=['Jenis Bahan Bakar', 'Transmisi', 'Merk Mobil', 'Tipe Chassis', 'Tipe Mobil'])\n",
        "\n",
        "# Tampilkan DataFrame yang telah diubah\n",
        "print(df)"
      ],
      "metadata": {
        "colab": {
          "base_uri": "https://localhost:8080/"
        },
        "id": "38GyfEx1G6rX",
        "outputId": "cdf3a0bb-fff4-4876-8ec3-885654098fb4"
      },
      "execution_count": null,
      "outputs": [
        {
          "output_type": "stream",
          "name": "stdout",
          "text": [
            "      Nama Mobil       Harga  CC Mesin  Jumlah Kursi  Horsepower  Torsi\n",
            "0         Avanza   250000000      1500             7         104    136\n",
            "1          Civic   600000000      1500             5         176    220\n",
            "2         Ertiga   250000000      1462             7         103    138\n",
            "3        Xpander   300000000      1500             7         105    141\n",
            "4          Supra  2000000000      3000             2         335    500\n",
            "5        Mazda 2   300000000      1500             5         110    114\n",
            "6         Ranger   800000000      2000             5         213    500\n",
            "7           Jazz   270000000      1500             5         120    145\n",
            "8       Gran Max   160000000      1500             3          97    134\n",
            "9       Colorado   700000000      2500             5         180    440\n",
            "10       A-Class   900000000      1332             5         163    250\n",
            "11   911 Carrera  4000000000      3000             2         379    450\n",
            "12         Traga   180000000      2500             2          80    191\n",
            "13        Livina   250000000      1500             7         104    141\n",
            "14   Hyundai i20   250000000      1400             5          83    114\n",
            "15        Triton   500000000      2400             5         181    430\n",
            "16         Hilux   450000000      2400             5         148    400\n",
            "17          CX-5   500000000      2500             5         187    252\n",
            "18  F-150 Raptor  1500000000      3500             5         450    691\n",
            "19  BMW 3 Series  1000000000      2000             5         258    400\n",
            "20        Kijang   150000000      1800             7          83    140\n",
            "21          L300   180000000      2500             2          85    172\n",
            "22         Carry   120000000      1300             3          75    100\n",
            "23        Espass    80000000      1600             7          90    130\n",
            "24       Terrano   150000000      2400             5         118    185\n",
            "25  Land Cruiser   500000000      4200             7         160    360\n",
            "26         Jimny   100000000      1300             4          70    100\n",
            "27       Trooper   200000000      3200             7         110    225\n",
            "28      Ventrend    60000000      1400             5          70    105\n",
            "29      Travello   120000000      2700            12          80    170\n",
            "30        Camaro  2000000000      6200             4         455    617\n",
            "31      Zebra. E    80000000      1600             7          72    110\n",
            "32        Accent    50000000      1500             5          92    135\n",
            "33        Navara   500000000      2300             5         190    450\n",
            "34         HiAce   600000000      2800            16         150    420\n",
            "35       Panther   300000000      2500             7          86    192\n",
            "36            X5  1500000000      3000             7         335    450\n",
            "37        Duster   300000000      1500             5         110    240\n",
            "38          Golf   500000000      1400             5         150    250\n",
            "39      Fortuner   600000000      2400             7         150    400\n"
          ]
        }
      ]
    },
    {
      "cell_type": "code",
      "source": [
        "# Ubah nama kolom 'nama_kolom_lama' menjadi 'nama_kolom_baru'\n",
        "df = df.rename(columns={'Nama Mobil': 'Alternatif'})\n",
        "\n",
        "# Tampilkan DataFrame yang telah diubah\n",
        "print(df)"
      ],
      "metadata": {
        "colab": {
          "base_uri": "https://localhost:8080/"
        },
        "id": "POaWh-vBKfrc",
        "outputId": "4b8fc7b4-e76d-461b-8dd5-4a72f1837c14"
      },
      "execution_count": null,
      "outputs": [
        {
          "output_type": "stream",
          "name": "stdout",
          "text": [
            "      Alternatif       Harga  CC Mesin  Jumlah Kursi  Horsepower  Torsi\n",
            "0         Avanza   250000000      1500             7         104    136\n",
            "1          Civic   600000000      1500             5         176    220\n",
            "2         Ertiga   250000000      1462             7         103    138\n",
            "3        Xpander   300000000      1500             7         105    141\n",
            "4          Supra  2000000000      3000             2         335    500\n",
            "5        Mazda 2   300000000      1500             5         110    114\n",
            "6         Ranger   800000000      2000             5         213    500\n",
            "7           Jazz   270000000      1500             5         120    145\n",
            "8       Gran Max   160000000      1500             3          97    134\n",
            "9       Colorado   700000000      2500             5         180    440\n",
            "10       A-Class   900000000      1332             5         163    250\n",
            "11   911 Carrera  4000000000      3000             2         379    450\n",
            "12         Traga   180000000      2500             2          80    191\n",
            "13        Livina   250000000      1500             7         104    141\n",
            "14   Hyundai i20   250000000      1400             5          83    114\n",
            "15        Triton   500000000      2400             5         181    430\n",
            "16         Hilux   450000000      2400             5         148    400\n",
            "17          CX-5   500000000      2500             5         187    252\n",
            "18  F-150 Raptor  1500000000      3500             5         450    691\n",
            "19  BMW 3 Series  1000000000      2000             5         258    400\n",
            "20        Kijang   150000000      1800             7          83    140\n",
            "21          L300   180000000      2500             2          85    172\n",
            "22         Carry   120000000      1300             3          75    100\n",
            "23        Espass    80000000      1600             7          90    130\n",
            "24       Terrano   150000000      2400             5         118    185\n",
            "25  Land Cruiser   500000000      4200             7         160    360\n",
            "26         Jimny   100000000      1300             4          70    100\n",
            "27       Trooper   200000000      3200             7         110    225\n",
            "28      Ventrend    60000000      1400             5          70    105\n",
            "29      Travello   120000000      2700            12          80    170\n",
            "30        Camaro  2000000000      6200             4         455    617\n",
            "31      Zebra. E    80000000      1600             7          72    110\n",
            "32        Accent    50000000      1500             5          92    135\n",
            "33        Navara   500000000      2300             5         190    450\n",
            "34         HiAce   600000000      2800            16         150    420\n",
            "35       Panther   300000000      2500             7          86    192\n",
            "36            X5  1500000000      3000             7         335    450\n",
            "37        Duster   300000000      1500             5         110    240\n",
            "38          Golf   500000000      1400             5         150    250\n",
            "39      Fortuner   600000000      2400             7         150    400\n"
          ]
        }
      ]
    },
    {
      "cell_type": "markdown",
      "source": [
        "# **AHP**"
      ],
      "metadata": {
        "id": "yjRMz4CmgidK"
      }
    },
    {
      "cell_type": "code",
      "source": [
        "from sklearn.preprocessing import MinMaxScaler\n",
        "\n",
        "df['Harga'] = pd.to_numeric(df['Harga'].replace('[\\$,]', '', regex=True), errors='coerce')\n",
        "df['CC Mesin'] = pd.to_numeric(df['CC Mesin'].replace('[^\\d.]', '', regex=True), errors='coerce')\n",
        "df['Jumlah Kursi'] = pd.to_numeric(df['Jumlah Kursi'].replace('[^\\d.]', '', regex=True), errors='coerce')\n",
        "df['Horsepower'] = pd.to_numeric(df['Horsepower'].replace('[^\\d.]', '', regex=True), errors='coerce')\n",
        "df['Torsi'] = pd.to_numeric(df['Torsi'].replace('[^\\d.]', '', regex=True), errors='coerce')\n",
        "\n",
        "# Extract criteria columns\n",
        "criteria_columns = ['Harga', 'CC Mesin', 'Jumlah Kursi', 'Horsepower','Torsi']\n",
        "\n",
        "# ----- Analytic Hierarchy Process (AHP) -----\n",
        "# Pairwise comparison matrix for criteria\n",
        "criteria_comparison_matrix = pd.DataFrame(index=criteria_columns, columns=criteria_columns, dtype=float)\n",
        "\n",
        "# Manually set the pairwise comparison values (adjust as needed)\n",
        "criteria_comparison_matrix.loc['Harga'] = [1, 3, 5, 7, 9]\n",
        "criteria_comparison_matrix.loc['CC Mesin'] = [1/3, 1, 3, 5, 7]\n",
        "criteria_comparison_matrix.loc['Jumlah Kursi'] = [1/5, 1/3, 1, 3, 5]\n",
        "criteria_comparison_matrix.loc['Horsepower'] = [1/7, 1/5, 1/3, 1, 3]\n",
        "criteria_comparison_matrix.loc['Torsi'] = [1/9, 1/7, 1/5, 1/3, 1]\n",
        "\n",
        "print(criteria_comparison_matrix)"
      ],
      "metadata": {
        "colab": {
          "base_uri": "https://localhost:8080/"
        },
        "id": "a4_pB4OiHRYp",
        "outputId": "e3d1874b-700f-423e-f43c-9ea44ce8fe40"
      },
      "execution_count": null,
      "outputs": [
        {
          "output_type": "stream",
          "name": "stdout",
          "text": [
            "                 Harga  CC Mesin  Jumlah Kursi  Horsepower  Torsi\n",
            "Harga         1.000000  3.000000      5.000000    7.000000    9.0\n",
            "CC Mesin      0.333333  1.000000      3.000000    5.000000    7.0\n",
            "Jumlah Kursi  0.200000  0.333333      1.000000    3.000000    5.0\n",
            "Horsepower    0.142857  0.200000      0.333333    1.000000    3.0\n",
            "Torsi         0.111111  0.142857      0.200000    0.333333    1.0\n"
          ]
        }
      ]
    },
    {
      "cell_type": "code",
      "source": [
        "# Calculate criteria weights using the Eigenvector method\n",
        "eigenvalues, eigenvectors = np.linalg.eig(criteria_comparison_matrix)\n",
        "\n",
        "normalized_matrix = criteria_comparison_matrix.div(criteria_comparison_matrix.sum(axis=0), axis=1)\n",
        "\n",
        "print(\"\\nMatriks yang telah dinormalisasi:\")\n",
        "print(normalized_matrix)\n",
        "\n",
        "print(\"\\nNilai Eigen:\")\n",
        "print(eigenvalues)\n",
        "print(\"\\nVektor Eigen:\")\n",
        "print(eigenvectors)"
      ],
      "metadata": {
        "colab": {
          "base_uri": "https://localhost:8080/"
        },
        "id": "v7PsZatIgvUN",
        "outputId": "28b8352f-bc71-4ad1-9815-bf3d42971cd5"
      },
      "execution_count": null,
      "outputs": [
        {
          "output_type": "stream",
          "name": "stdout",
          "text": [
            "\n",
            "Matriks yang telah dinormalisasi:\n",
            "                 Harga  CC Mesin  Jumlah Kursi  Horsepower  Torsi\n",
            "Harga         0.559503  0.641548      0.524476    0.428571   0.36\n",
            "CC Mesin      0.186501  0.213849      0.314685    0.306122   0.28\n",
            "Jumlah Kursi  0.111901  0.071283      0.104895    0.183673   0.20\n",
            "Horsepower    0.079929  0.042770      0.034965    0.061224   0.12\n",
            "Torsi         0.062167  0.030550      0.020979    0.020408   0.04\n",
            "\n",
            "Nilai Eigen:\n",
            "[ 5.23747525+0.j          0.02584378+1.10036364j  0.02584378-1.10036364j\n",
            " -0.14458141+0.16231157j -0.14458141-0.16231157j]\n",
            "\n",
            "Vektor Eigen:\n",
            "[[ 0.8629722 +0.j          0.88983195+0.j          0.88983195-0.j\n",
            "   0.80893898+0.j          0.80893898-0.j        ]\n",
            " [ 0.44005612+0.j          0.14341024+0.36612756j  0.14341024-0.36612756j\n",
            "  -0.39763998+0.29264917j -0.39763998-0.29264917j]\n",
            " [ 0.21704424+0.j         -0.14540867+0.1379384j  -0.14540867-0.1379384j\n",
            "   0.03839475-0.26947059j  0.03839475+0.26947059j]\n",
            " [ 0.10665135+0.j         -0.09087506-0.03711417j -0.09087506+0.03711417j\n",
            "   0.080036  +0.13118863j  0.080036  -0.13118863j]\n",
            " [ 0.05609714+0.j          0.00734475-0.0610152j   0.00734475+0.0610152j\n",
            "  -0.05391137-0.03529053j -0.05391137+0.03529053j]]\n"
          ]
        }
      ]
    },
    {
      "cell_type": "code",
      "source": [
        "max_eigenvalue = np.max(eigenvalues)\n",
        "num_criteria = criteria_comparison_matrix.shape[0]\n",
        "RI = 1.12\n",
        "CI = (max_eigenvalue - num_criteria) / (num_criteria - 1)\n",
        "CR = CI / RI\n",
        "inconsistency = \"Konsisten\" if CR <= 0.1 else \"Tidak Konsisten\"\n",
        "\n",
        "print(\"\\nLambda Max:\", max_eigenvalue)\n",
        "print(\"Jumlah Kriteria:\", num_criteria)\n",
        "print(\"Random Index (RI):\", RI)\n",
        "print(\"Consistency Index (CI):\", CI)\n",
        "print(\"Consistency Ratio (CR):\", CR)\n",
        "print(\"Inkonsistensi:\", inconsistency)"
      ],
      "metadata": {
        "colab": {
          "base_uri": "https://localhost:8080/"
        },
        "id": "PvVW6Ukqh599",
        "outputId": "b28ec49f-409a-4949-a75d-6421a0e3f90b"
      },
      "execution_count": null,
      "outputs": [
        {
          "output_type": "stream",
          "name": "stdout",
          "text": [
            "\n",
            "Lambda Max: (5.237475251487309+0j)\n",
            "Jumlah Kriteria: 5\n",
            "Random Index (RI): 1.12\n",
            "Consistency Index (CI): (0.05936881287182727+0j)\n",
            "Consistency Ratio (CR): (0.053007868635560056+0j)\n",
            "Inkonsistensi: Konsisten\n"
          ]
        }
      ]
    },
    {
      "cell_type": "code",
      "source": [
        "criteria_weights = eigenvectors[:, np.argmax(eigenvalues)] / np.sum(eigenvectors[:, np.argmax(eigenvalues)])\n",
        "\n",
        "# Normalize the criteria values\n",
        "df_normalized_ahp = df.copy()\n",
        "for column in criteria_columns:\n",
        "    if column in ['Harga', 'CC Mesin', 'Horsepower', 'Torsi']:  # Cost criteria\n",
        "        df_normalized_ahp[column] = 1 / (df[column] + 1)  # Normalize inversely\n",
        "    else:  # Benefit criteria\n",
        "        df_normalized_ahp[column] = df[column] / df[column].max()\n",
        "\n",
        "# Calculate the weighted sum for each smartphone\n",
        "df_normalized_ahp['AHP_Score'] = df_normalized_ahp[criteria_columns].dot(criteria_weights)\n",
        "\n",
        "# Rank the smartphones based on the AHP scores\n",
        "df_ranked_ahp = df_normalized_ahp.sort_values(by='AHP_Score', ascending=False).reset_index(drop=True)\n",
        "\n",
        "print(\"\\nRanked Dataset (AHP):\")\n",
        "print(df_ranked_ahp[['Alternatif', 'AHP_Score']])"
      ],
      "metadata": {
        "colab": {
          "base_uri": "https://localhost:8080/"
        },
        "id": "Qg8G6SbJhEB8",
        "outputId": "b8b712e0-62eb-40e2-d409-caeea625e87a"
      },
      "execution_count": null,
      "outputs": [
        {
          "output_type": "stream",
          "name": "stdout",
          "text": [
            "\n",
            "Ranked Dataset (AHP):\n",
            "      Alternatif           AHP_Score\n",
            "0          HiAce  0.129569+0.000000j\n",
            "1       Travello  0.097807+0.000000j\n",
            "2       Zebra. E  0.057759+0.000000j\n",
            "3         Kijang  0.057563+0.000000j\n",
            "4         Espass  0.057541+0.000000j\n",
            "5         Ertiga  0.057455+0.000000j\n",
            "6         Avanza  0.057448+0.000000j\n",
            "7         Livina  0.057440+0.000000j\n",
            "8        Xpander  0.057434+0.000000j\n",
            "9        Panther  0.057433+0.000000j\n",
            "10       Trooper  0.057227+0.000000j\n",
            "11      Fortuner  0.057039+0.000000j\n",
            "12  Land Cruiser  0.056975+0.000000j\n",
            "13            X5  0.056777+0.000000j\n",
            "14      Ventrend  0.041699+0.000000j\n",
            "15   Hyundai i20  0.041536+0.000000j\n",
            "16        Accent  0.041406+0.000000j\n",
            "17       Mazda 2  0.041340+0.000000j\n",
            "18          Jazz  0.041231+0.000000j\n",
            "19        Duster  0.041189+0.000000j\n",
            "20       Terrano  0.041126+0.000000j\n",
            "21          Golf  0.041044+0.000000j\n",
            "22       A-Class  0.041021+0.000000j\n",
            "23         Civic  0.040988+0.000000j\n",
            "24         Hilux  0.040923+0.000000j\n",
            "25          CX-5  0.040879+0.000000j\n",
            "26        Triton  0.040840+0.000000j\n",
            "27      Colorado  0.040835+0.000000j\n",
            "28        Navara  0.040825+0.000000j\n",
            "29        Ranger  0.040799+0.000000j\n",
            "30  BMW 3 Series  0.040764+0.000000j\n",
            "31  F-150 Raptor  0.040569+0.000000j\n",
            "32         Jimny  0.033668+0.000000j\n",
            "33        Camaro  0.032479+0.000000j\n",
            "34         Carry  0.025548+0.000000j\n",
            "35      Gran Max  0.025251+0.000000j\n",
            "36         Traga  0.017183+0.000000j\n",
            "37          L300  0.017156+0.000000j\n",
            "38         Supra  0.016464+0.000000j\n",
            "39   911 Carrera  0.016450+0.000000j\n"
          ]
        }
      ]
    },
    {
      "cell_type": "code",
      "source": [
        "import pickle\n",
        "\n",
        "# --- Menyimpan model AHP ---\n",
        "ahp_model = {\n",
        "    'criteria_comparison_matrix': criteria_comparison_matrix,\n",
        "    'criteria_weights': criteria_weights,\n",
        "    'df_ranked_ahp': df_ranked_ahp,\n",
        "    'normalized_matrix': normalized_matrix  # Optional: Menyimpan matriks yang dinormalisasi\n",
        "}\n",
        "\n",
        "with open('supercar_model.pkl', 'wb') as file:\n",
        "    pickle.dump(ahp_model, file)\n",
        "\n",
        "print(\"Model AHP dan SAW telah disimpan!\")"
      ],
      "metadata": {
        "colab": {
          "base_uri": "https://localhost:8080/"
        },
        "id": "fK354uG1ii5s",
        "outputId": "0151e8a9-69ab-41fa-f079-a77cae70abbc"
      },
      "execution_count": null,
      "outputs": [
        {
          "output_type": "stream",
          "name": "stdout",
          "text": [
            "Model AHP dan SAW telah disimpan!\n"
          ]
        }
      ]
    }
  ]
}